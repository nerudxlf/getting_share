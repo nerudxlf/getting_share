{
  "nbformat": 4,
  "nbformat_minor": 0,
  "metadata": {
    "colab": {
      "name": "main.ipynb",
      "provenance": [],
      "authorship_tag": "ABX9TyOCNtxcYFRBK9gO+3osFucM",
      "include_colab_link": true
    },
    "kernelspec": {
      "name": "python3",
      "display_name": "Python 3"
    }
  },
  "cells": [
    {
      "cell_type": "markdown",
      "metadata": {
        "id": "view-in-github",
        "colab_type": "text"
      },
      "source": [
        "<a href=\"https://colab.research.google.com/github/nerudxlf/getting_share/blob/main/main.ipynb\" target=\"_parent\"><img src=\"https://colab.research.google.com/assets/colab-badge.svg\" alt=\"Open In Colab\"/></a>"
      ]
    },
    {
      "cell_type": "code",
      "metadata": {
        "id": "sQQxoRPDB1XX"
      },
      "source": [
        "import pandas as pd\r\n",
        "from google.colab import files\r\n",
        "\r\n",
        "files.upload()"
      ],
      "execution_count": null,
      "outputs": []
    },
    {
      "cell_type": "code",
      "metadata": {
        "id": "6vbWBZ37B6_Q"
      },
      "source": [
        "def count(data_list: list) -> tuple:\r\n",
        "  count_result = 0\r\n",
        "  for item in data_list:\r\n",
        "    item_split = item.split(\"; [\")\r\n",
        "    count_etc = len(item_split)\r\n",
        "    count_russia = len(item_split)\r\n",
        "    for elem in item_split:\r\n",
        "      if elem.find(\"Russia\") == -1:\r\n",
        "        count_etc -= 1\r\n",
        "    if count_etc != count_russia:\r\n",
        "      count_result += 1\r\n",
        "    return count_result, len(data_list)"
      ],
      "execution_count": null,
      "outputs": []
    },
    {
      "cell_type": "code",
      "metadata": {
        "id": "omYtGxroCC5Y"
      },
      "source": [
        "data_df = pd.read_excel(\"data2020.xls\")\r\n",
        "address_list = data_df[\"Addresses\"].to_list()\r\n",
        "value_russia, value_etc = count(address_list)\r\n",
        "print(value_russia / value_etc)"
      ],
      "execution_count": null,
      "outputs": []
    }
  ]
}